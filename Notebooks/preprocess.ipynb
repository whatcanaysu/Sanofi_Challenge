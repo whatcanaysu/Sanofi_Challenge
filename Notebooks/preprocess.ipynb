{
 "cells": [
  {
   "attachments": {},
   "cell_type": "markdown",
   "metadata": {},
   "source": [
    "I need a Data set like this:"
   ]
  },
  {
   "cell_type": "code",
   "execution_count": 2,
   "metadata": {},
   "outputs": [
    {
     "data": {
      "text/plain": [
       "'\\n   Yield  Property1  Property2  ParentMaterial1  ParentMaterial2\\n0     10          3          5                2                4\\n1     12          2          6                3                5\\n2     15          4          7                2                4\\n3     11          2          5                3                5\\n4     13          3          6                2                4\\n'"
      ]
     },
     "execution_count": 2,
     "metadata": {},
     "output_type": "execute_result"
    }
   ],
   "source": [
    "'''\n",
    "   Yield  Property1  Property2  ParentMaterial1  ParentMaterial2\n",
    "0     10          3          5                2                4\n",
    "1     12          2          6                3                5\n",
    "2     15          4          7                2                4\n",
    "3     11          2          5                3                5\n",
    "4     13          3          6                2                4\n",
    "'''"
   ]
  },
  {
   "attachments": {},
   "cell_type": "markdown",
   "metadata": {},
   "source": [
    "Property 1 and Property2 will be features of output batches. ParentMaterial1 and ParentMaterial2 will be features of input batches."
   ]
  }
 ],
 "metadata": {
  "kernelspec": {
   "display_name": "Python 3",
   "language": "python",
   "name": "python3"
  },
  "language_info": {
   "codemirror_mode": {
    "name": "ipython",
    "version": 3
   },
   "file_extension": ".py",
   "mimetype": "text/x-python",
   "name": "python",
   "nbconvert_exporter": "python",
   "pygments_lexer": "ipython3",
   "version": "3.10.11"
  },
  "orig_nbformat": 4
 },
 "nbformat": 4,
 "nbformat_minor": 2
}
